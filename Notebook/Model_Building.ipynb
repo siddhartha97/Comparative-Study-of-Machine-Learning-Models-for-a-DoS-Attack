{
 "cells": [
  {
   "cell_type": "code",
   "execution_count": 49,
   "metadata": {},
   "outputs": [],
   "source": [
    "import warnings\n",
    "import numpy as np\n",
    "import pandas as pd\n",
    "import seaborn as sns\n",
    "import matplotlib.pyplot as plt\n",
    "from sklearn.linear_model import Perceptron\n",
    "from sklearn.grid_search import GridSearchCV\n",
    "from sklearn.cross_validation import train_test_split\n",
    "from sklearn.linear_model import LogisticRegression\n",
    "from sklearn.svm import LinearSVC\n",
    "from sklearn.ensemble import RandomForestClassifier\n",
    "from sklearn.metrics import accuracy_score,f1_score\n",
    "from sklearn.preprocessing import StandardScaler\n",
    "from sklearn.cross_validation import KFold\n",
    "\n",
    "warnings.filterwarnings('ignore')\n",
    "%matplotlib inline"
   ]
  },
  {
   "cell_type": "code",
   "execution_count": 50,
   "metadata": {},
   "outputs": [],
   "source": [
    "df = pd.read_csv('FinalDataset.csv')\n",
    "df = df[df[\"Received Rate\"] <= 40]"
   ]
  },
  {
   "cell_type": "code",
   "execution_count": 51,
   "metadata": {},
   "outputs": [],
   "source": [
    "Y = df.ix[:,3]\n",
    "X = df.ix[:,1:3]\n"
   ]
  },
  {
   "cell_type": "code",
   "execution_count": 52,
   "metadata": {},
   "outputs": [],
   "source": [
    "Y[Y>0.2] = 1\n",
    "Y[Y<=0.2] = 0"
   ]
  },
  {
   "cell_type": "code",
   "execution_count": 53,
   "metadata": {},
   "outputs": [
    {
     "data": {
      "text/plain": [
       "0.14285714285714285"
      ]
     },
     "execution_count": 53,
     "metadata": {},
     "output_type": "execute_result"
    }
   ],
   "source": [
    "Y.mean()"
   ]
  },
  {
   "cell_type": "code",
   "execution_count": 54,
   "metadata": {},
   "outputs": [],
   "source": [
    "x_train,x_test,y_train,y_test = train_test_split(X,Y,test_size = 0.4,random_state = 1)\n",
    "#x_test,x_val,y_test,y_val = train_test_split(x_test,y_test,test_size = 0.5,random_state = 1)"
   ]
  },
  {
   "cell_type": "code",
   "execution_count": 55,
   "metadata": {
    "scrolled": true
   },
   "outputs": [
    {
     "data": {
      "text/plain": [
       "<matplotlib.axes._subplots.AxesSubplot at 0x7f9f3beb07f0>"
      ]
     },
     "execution_count": 55,
     "metadata": {},
     "output_type": "execute_result"
    },
    {
     "data": {
      "image/png": "[encoded data removed]",
      "text/plain": [
       "<matplotlib.figure.Figure at 0x7f9f3bfbaa90>"
      ]
     },
     "metadata": {},
     "output_type": "display_data"
    }
   ],
   "source": [
    "sns.regplot(x_train.ix[:,1],y_train)"
   ]
  },
  {
   "cell_type": "code",
   "execution_count": 56,
   "metadata": {},
   "outputs": [
    {
     "data": {
      "text/plain": [
       "<matplotlib.axes._subplots.AxesSubplot at 0x7f9f3bfd3f98>"
      ]
     },
     "execution_count": 56,
     "metadata": {},
     "output_type": "execute_result"
    },
    {
     "data": {
      "image/png": "[encoded data removed]",
      "text/plain": [
       "<matplotlib.figure.Figure at 0x7f9f3bfbada0>"
      ]
     },
     "metadata": {},
     "output_type": "display_data"
    }
   ],
   "source": [
    "sns.boxplot(x = y_train,y= x_train.ix[:,1])"
   ]
  },
  {
   "cell_type": "code",
   "execution_count": 57,
   "metadata": {},
   "outputs": [
    {
     "data": {
      "text/plain": [
       "<matplotlib.axes._subplots.AxesSubplot at 0x7f9f3bf10898>"
      ]
     },
     "execution_count": 57,
     "metadata": {},
     "output_type": "execute_result"
    },
    {
     "data": {
      "image/png": "[encoded data removed]",
      "text/plain": [
       "<matplotlib.figure.Figure at 0x7f9f3bed0438>"
      ]
     },
     "metadata": {},
     "output_type": "display_data"
    }
   ],
   "source": [
    "sns.boxplot(x = y_train,y= x_train.ix[:,0])"
   ]
  },
  {
   "cell_type": "code",
   "execution_count": null,
   "metadata": {},
   "outputs": [],
   "source": [
    "RandomForestClassifier(m)"
   ]
  },
  {
   "cell_type": "code",
   "execution_count": null,
   "metadata": {},
   "outputs": [],
   "source": []
  },
  {
   "cell_type": "code",
   "execution_count": 58,
   "metadata": {},
   "outputs": [],
   "source": [
    "from sklearn.model_selection import GridSearchCV"
   ]
  },
  {
   "cell_type": "code",
   "execution_count": 105,
   "metadata": {},
   "outputs": [
    {
     "name": "stdout",
     "output_type": "stream",
     "text": [
      "{'max_depth': [2, 3, 4, 5, 6, 7, 8, 9, 10, 11], 'max_leaf_nodes': [2, 3, 4, 5, 6, 7, 8, 9, 10, 11]}\n"
     ]
    }
   ],
   "source": [
    "r_range = list(range(2,12))\n",
    "\n",
    "param_grid = dict(max_depth = r_range,max_leaf_nodes = r_range)\n",
    "\n",
    "print (param_grid)"
   ]
  },
  {
   "cell_type": "code",
   "execution_count": 112,
   "metadata": {},
   "outputs": [],
   "source": [
    "c = GridSearchCV(RandomForestClassifier(),param_grid,cv = 3,scoring='f1')"
   ]
  },
  {
   "cell_type": "code",
   "execution_count": 113,
   "metadata": {},
   "outputs": [
    {
     "data": {
      "text/plain": [
       "GridSearchCV(cv=3, error_score='raise',\n",
       "       estimator=RandomForestClassifier(bootstrap=True, class_weight=None, criterion='gini',\n",
       "            max_depth=None, max_features='auto', max_leaf_nodes=None,\n",
       "            min_impurity_decrease=0.0, min_impurity_split=None,\n",
       "            min_samples_leaf=1, min_samples_split=2,\n",
       "            min_weight_fraction_leaf=0.0, n_estimators=10, n_jobs=1,\n",
       "            oob_score=False, random_state=None, verbose=0,\n",
       "            warm_start=False),\n",
       "       fit_params=None, iid=True, n_jobs=1,\n",
       "       param_grid={'max_depth': [2, 3, 4, 5, 6, 7, 8, 9, 10, 11], 'max_leaf_nodes': [2, 3, 4, 5, 6, 7, 8, 9, 10, 11]},\n",
       "       pre_dispatch='2*n_jobs', refit=True, return_train_score='warn',\n",
       "       scoring='f1', verbose=0)"
      ]
     },
     "execution_count": 113,
     "metadata": {},
     "output_type": "execute_result"
    }
   ],
   "source": [
    "c.fit(x_train,y_train)"
   ]
  },
  {
   "cell_type": "code",
   "execution_count": 114,
   "metadata": {},
   "outputs": [
    {
     "data": {
      "text/plain": [
       "[mean: 0.60800, std: 0.43205, params: {'max_depth': 2, 'max_leaf_nodes': 2},\n",
       " mean: 0.68000, std: 0.47140, params: {'max_depth': 2, 'max_leaf_nodes': 3},\n",
       " mean: 0.68000, std: 0.47140, params: {'max_depth': 2, 'max_leaf_nodes': 4},\n",
       " mean: 0.68000, std: 0.47140, params: {'max_depth': 2, 'max_leaf_nodes': 5},\n",
       " mean: 0.68000, std: 0.47140, params: {'max_depth': 2, 'max_leaf_nodes': 6},\n",
       " mean: 0.68000, std: 0.47140, params: {'max_depth': 2, 'max_leaf_nodes': 7},\n",
       " mean: 0.68000, std: 0.47140, params: {'max_depth': 2, 'max_leaf_nodes': 8},\n",
       " mean: 0.68000, std: 0.47140, params: {'max_depth': 2, 'max_leaf_nodes': 9},\n",
       " mean: 0.68000, std: 0.47140, params: {'max_depth': 2, 'max_leaf_nodes': 10},\n",
       " mean: 0.68000, std: 0.47140, params: {'max_depth': 2, 'max_leaf_nodes': 11},\n",
       " mean: 0.68000, std: 0.47140, params: {'max_depth': 3, 'max_leaf_nodes': 2},\n",
       " mean: 0.68000, std: 0.47140, params: {'max_depth': 3, 'max_leaf_nodes': 3},\n",
       " mean: 1.00000, std: 0.00000, params: {'max_depth': 3, 'max_leaf_nodes': 4},\n",
       " mean: 0.68000, std: 0.47140, params: {'max_depth': 3, 'max_leaf_nodes': 5},\n",
       " mean: 0.68000, std: 0.47140, params: {'max_depth': 3, 'max_leaf_nodes': 6},\n",
       " mean: 0.68000, std: 0.47140, params: {'max_depth': 3, 'max_leaf_nodes': 7},\n",
       " mean: 1.00000, std: 0.00000, params: {'max_depth': 3, 'max_leaf_nodes': 8},\n",
       " mean: 0.68000, std: 0.47140, params: {'max_depth': 3, 'max_leaf_nodes': 9},\n",
       " mean: 1.00000, std: 0.00000, params: {'max_depth': 3, 'max_leaf_nodes': 10},\n",
       " mean: 1.00000, std: 0.00000, params: {'max_depth': 3, 'max_leaf_nodes': 11},\n",
       " mean: 0.68000, std: 0.47140, params: {'max_depth': 4, 'max_leaf_nodes': 2},\n",
       " mean: 0.68000, std: 0.47140, params: {'max_depth': 4, 'max_leaf_nodes': 3},\n",
       " mean: 0.68000, std: 0.47140, params: {'max_depth': 4, 'max_leaf_nodes': 4},\n",
       " mean: 0.68000, std: 0.47140, params: {'max_depth': 4, 'max_leaf_nodes': 5},\n",
       " mean: 0.68000, std: 0.47140, params: {'max_depth': 4, 'max_leaf_nodes': 6},\n",
       " mean: 0.68000, std: 0.47140, params: {'max_depth': 4, 'max_leaf_nodes': 7},\n",
       " mean: 0.68000, std: 0.47140, params: {'max_depth': 4, 'max_leaf_nodes': 8},\n",
       " mean: 1.00000, std: 0.00000, params: {'max_depth': 4, 'max_leaf_nodes': 9},\n",
       " mean: 0.68000, std: 0.47140, params: {'max_depth': 4, 'max_leaf_nodes': 10},\n",
       " mean: 0.68000, std: 0.47140, params: {'max_depth': 4, 'max_leaf_nodes': 11},\n",
       " mean: 0.68000, std: 0.47140, params: {'max_depth': 5, 'max_leaf_nodes': 2},\n",
       " mean: 0.68000, std: 0.47140, params: {'max_depth': 5, 'max_leaf_nodes': 3},\n",
       " mean: 0.68000, std: 0.47140, params: {'max_depth': 5, 'max_leaf_nodes': 4},\n",
       " mean: 0.68000, std: 0.47140, params: {'max_depth': 5, 'max_leaf_nodes': 5},\n",
       " mean: 0.68000, std: 0.47140, params: {'max_depth': 5, 'max_leaf_nodes': 6},\n",
       " mean: 0.68000, std: 0.47140, params: {'max_depth': 5, 'max_leaf_nodes': 7},\n",
       " mean: 0.68000, std: 0.47140, params: {'max_depth': 5, 'max_leaf_nodes': 8},\n",
       " mean: 0.68000, std: 0.47140, params: {'max_depth': 5, 'max_leaf_nodes': 9},\n",
       " mean: 0.68000, std: 0.47140, params: {'max_depth': 5, 'max_leaf_nodes': 10},\n",
       " mean: 0.68000, std: 0.47140, params: {'max_depth': 5, 'max_leaf_nodes': 11},\n",
       " mean: 0.68000, std: 0.47140, params: {'max_depth': 6, 'max_leaf_nodes': 2},\n",
       " mean: 0.68000, std: 0.47140, params: {'max_depth': 6, 'max_leaf_nodes': 3},\n",
       " mean: 0.56000, std: 0.41574, params: {'max_depth': 6, 'max_leaf_nodes': 4},\n",
       " mean: 0.68000, std: 0.47140, params: {'max_depth': 6, 'max_leaf_nodes': 5},\n",
       " mean: 0.68000, std: 0.47140, params: {'max_depth': 6, 'max_leaf_nodes': 6},\n",
       " mean: 0.68000, std: 0.47140, params: {'max_depth': 6, 'max_leaf_nodes': 7},\n",
       " mean: 0.68000, std: 0.47140, params: {'max_depth': 6, 'max_leaf_nodes': 8},\n",
       " mean: 0.68000, std: 0.47140, params: {'max_depth': 6, 'max_leaf_nodes': 9},\n",
       " mean: 0.68000, std: 0.47140, params: {'max_depth': 6, 'max_leaf_nodes': 10},\n",
       " mean: 0.68000, std: 0.47140, params: {'max_depth': 6, 'max_leaf_nodes': 11},\n",
       " mean: 0.68000, std: 0.47140, params: {'max_depth': 7, 'max_leaf_nodes': 2},\n",
       " mean: 0.68000, std: 0.47140, params: {'max_depth': 7, 'max_leaf_nodes': 3},\n",
       " mean: 0.68000, std: 0.47140, params: {'max_depth': 7, 'max_leaf_nodes': 4},\n",
       " mean: 0.68000, std: 0.47140, params: {'max_depth': 7, 'max_leaf_nodes': 5},\n",
       " mean: 0.68000, std: 0.47140, params: {'max_depth': 7, 'max_leaf_nodes': 6},\n",
       " mean: 0.68000, std: 0.47140, params: {'max_depth': 7, 'max_leaf_nodes': 7},\n",
       " mean: 0.68000, std: 0.47140, params: {'max_depth': 7, 'max_leaf_nodes': 8},\n",
       " mean: 0.68000, std: 0.47140, params: {'max_depth': 7, 'max_leaf_nodes': 9},\n",
       " mean: 0.68000, std: 0.47140, params: {'max_depth': 7, 'max_leaf_nodes': 10},\n",
       " mean: 0.68000, std: 0.47140, params: {'max_depth': 7, 'max_leaf_nodes': 11},\n",
       " mean: 0.68000, std: 0.47140, params: {'max_depth': 8, 'max_leaf_nodes': 2},\n",
       " mean: 0.68000, std: 0.47140, params: {'max_depth': 8, 'max_leaf_nodes': 3},\n",
       " mean: 0.56000, std: 0.41574, params: {'max_depth': 8, 'max_leaf_nodes': 4},\n",
       " mean: 0.60800, std: 0.43205, params: {'max_depth': 8, 'max_leaf_nodes': 5},\n",
       " mean: 0.68000, std: 0.47140, params: {'max_depth': 8, 'max_leaf_nodes': 6},\n",
       " mean: 0.68000, std: 0.47140, params: {'max_depth': 8, 'max_leaf_nodes': 7},\n",
       " mean: 0.68000, std: 0.47140, params: {'max_depth': 8, 'max_leaf_nodes': 8},\n",
       " mean: 0.88000, std: 0.15713, params: {'max_depth': 8, 'max_leaf_nodes': 9},\n",
       " mean: 0.68000, std: 0.47140, params: {'max_depth': 8, 'max_leaf_nodes': 10},\n",
       " mean: 0.68000, std: 0.47140, params: {'max_depth': 8, 'max_leaf_nodes': 11},\n",
       " mean: 0.68000, std: 0.47140, params: {'max_depth': 9, 'max_leaf_nodes': 2},\n",
       " mean: 0.56000, std: 0.41574, params: {'max_depth': 9, 'max_leaf_nodes': 3},\n",
       " mean: 0.68000, std: 0.47140, params: {'max_depth': 9, 'max_leaf_nodes': 4},\n",
       " mean: 0.56000, std: 0.41574, params: {'max_depth': 9, 'max_leaf_nodes': 5},\n",
       " mean: 0.68000, std: 0.47140, params: {'max_depth': 9, 'max_leaf_nodes': 6},\n",
       " mean: 0.88000, std: 0.15713, params: {'max_depth': 9, 'max_leaf_nodes': 7},\n",
       " mean: 0.68000, std: 0.47140, params: {'max_depth': 9, 'max_leaf_nodes': 8},\n",
       " mean: 0.68000, std: 0.47140, params: {'max_depth': 9, 'max_leaf_nodes': 9},\n",
       " mean: 0.68000, std: 0.47140, params: {'max_depth': 9, 'max_leaf_nodes': 10},\n",
       " mean: 0.68000, std: 0.47140, params: {'max_depth': 9, 'max_leaf_nodes': 11},\n",
       " mean: 0.68000, std: 0.47140, params: {'max_depth': 10, 'max_leaf_nodes': 2},\n",
       " mean: 0.68000, std: 0.47140, params: {'max_depth': 10, 'max_leaf_nodes': 3},\n",
       " mean: 0.68000, std: 0.47140, params: {'max_depth': 10, 'max_leaf_nodes': 4},\n",
       " mean: 0.68000, std: 0.47140, params: {'max_depth': 10, 'max_leaf_nodes': 5},\n",
       " mean: 0.68000, std: 0.47140, params: {'max_depth': 10, 'max_leaf_nodes': 6},\n",
       " mean: 0.68000, std: 0.47140, params: {'max_depth': 10, 'max_leaf_nodes': 7},\n",
       " mean: 0.68000, std: 0.47140, params: {'max_depth': 10, 'max_leaf_nodes': 8},\n",
       " mean: 0.68000, std: 0.47140, params: {'max_depth': 10, 'max_leaf_nodes': 9},\n",
       " mean: 0.68000, std: 0.47140, params: {'max_depth': 10, 'max_leaf_nodes': 10},\n",
       " mean: 0.68000, std: 0.47140, params: {'max_depth': 10, 'max_leaf_nodes': 11},\n",
       " mean: 0.50000, std: 0.40825, params: {'max_depth': 11, 'max_leaf_nodes': 2},\n",
       " mean: 0.68000, std: 0.47140, params: {'max_depth': 11, 'max_leaf_nodes': 3},\n",
       " mean: 0.68000, std: 0.47140, params: {'max_depth': 11, 'max_leaf_nodes': 4},\n",
       " mean: 0.68000, std: 0.47140, params: {'max_depth': 11, 'max_leaf_nodes': 5},\n",
       " mean: 0.68000, std: 0.47140, params: {'max_depth': 11, 'max_leaf_nodes': 6},\n",
       " mean: 0.68000, std: 0.47140, params: {'max_depth': 11, 'max_leaf_nodes': 7},\n",
       " mean: 0.68000, std: 0.47140, params: {'max_depth': 11, 'max_leaf_nodes': 8},\n",
       " mean: 0.56000, std: 0.41574, params: {'max_depth': 11, 'max_leaf_nodes': 9},\n",
       " mean: 0.68000, std: 0.47140, params: {'max_depth': 11, 'max_leaf_nodes': 10},\n",
       " mean: 1.00000, std: 0.00000, params: {'max_depth': 11, 'max_leaf_nodes': 11}]"
      ]
     },
     "execution_count": 114,
     "metadata": {},
     "output_type": "execute_result"
    }
   ],
   "source": [
    "c.grid_scores_"
   ]
  },
  {
   "cell_type": "code",
   "execution_count": 115,
   "metadata": {},
   "outputs": [
    {
     "data": {
      "text/plain": [
       "1.0"
      ]
     },
     "execution_count": 115,
     "metadata": {},
     "output_type": "execute_result"
    }
   ],
   "source": [
    "c.best_score_"
   ]
  },
  {
   "cell_type": "code",
   "execution_count": 117,
   "metadata": {},
   "outputs": [
    {
     "data": {
      "text/plain": [
       "RandomForestClassifier(bootstrap=True, class_weight=None, criterion='gini',\n",
       "            max_depth=3, max_features='auto', max_leaf_nodes=None,\n",
       "            min_impurity_decrease=0.0, min_impurity_split=None,\n",
       "            min_samples_leaf=1, min_samples_split=2,\n",
       "            min_weight_fraction_leaf=0.0, n_estimators=10, n_jobs=1,\n",
       "            oob_score=True, random_state=1, verbose=0, warm_start=False)"
      ]
     },
     "execution_count": 117,
     "metadata": {},
     "output_type": "execute_result"
    }
   ],
   "source": [
    "model = RandomForestClassifier(max_depth=3,random_state=1,oob_score=True)\n",
    "model.fit(x_train,y_train)"
   ]
  },
  {
   "cell_type": "code",
   "execution_count": 118,
   "metadata": {},
   "outputs": [],
   "source": [
    "y_pred = model.predict(x_test)"
   ]
  },
  {
   "cell_type": "code",
   "execution_count": 119,
   "metadata": {},
   "outputs": [
    {
     "name": "stdout",
     "output_type": "stream",
     "text": [
      "The f1 score is : 1\n"
     ]
    }
   ],
   "source": [
    "print (\"The f1 score is : %d\" % (f1_score(y_pred,y_test))) "
   ]
  },
  {
   "cell_type": "code",
   "execution_count": null,
   "metadata": {},
   "outputs": [],
   "source": []
  },
  {
   "cell_type": "code",
   "execution_count": null,
   "metadata": {},
   "outputs": [],
   "source": []
  },
  {
   "cell_type": "code",
   "execution_count": null,
   "metadata": {},
   "outputs": [],
   "source": []
  }
 ],
 "metadata": {
  "kernelspec": {
   "display_name": "Python [conda root]",
   "language": "python",
   "name": "conda-root-py"
  },
  "language_info": {
   "codemirror_mode": {
    "name": "ipython",
    "version": 3
   },
   "file_extension": ".py",
   "mimetype": "text/x-python",
   "name": "python",
   "nbconvert_exporter": "python",
   "pygments_lexer": "ipython3",
   "version": "3.6.3"
  }
 },
 "nbformat": 4,
 "nbformat_minor": 2
}
